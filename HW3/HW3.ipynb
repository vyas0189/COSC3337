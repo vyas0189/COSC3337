{
 "cells": [
  {
   "cell_type": "code",
   "execution_count": 1,
   "metadata": {},
   "outputs": [
    {
     "name": "stdout",
     "output_type": "stream",
     "text": [
      "package 'cluster' successfully unpacked and MD5 sums checked\n",
      "\n",
      "The downloaded binary packages are in\n",
      "\tC:\\Users\\vyas0\\AppData\\Local\\Temp\\RtmpERIySs\\downloaded_packages\n",
      "package 'factoextra' successfully unpacked and MD5 sums checked\n",
      "\n",
      "The downloaded binary packages are in\n",
      "\tC:\\Users\\vyas0\\AppData\\Local\\Temp\\RtmpERIySs\\downloaded_packages\n",
      "package 'fpc' successfully unpacked and MD5 sums checked\n",
      "\n",
      "The downloaded binary packages are in\n",
      "\tC:\\Users\\vyas0\\AppData\\Local\\Temp\\RtmpERIySs\\downloaded_packages\n",
      "package 'dbscan' successfully unpacked and MD5 sums checked\n",
      "\n",
      "The downloaded binary packages are in\n",
      "\tC:\\Users\\vyas0\\AppData\\Local\\Temp\\RtmpERIySs\\downloaded_packages\n"
     ]
    },
    {
     "name": "stderr",
     "output_type": "stream",
     "text": [
      "Loading required package: ggplot2\n",
      "Registered S3 methods overwritten by 'ggplot2':\n",
      "  method         from \n",
      "  [.quosures     rlang\n",
      "  c.quosures     rlang\n",
      "  print.quosures rlang\n",
      "Welcome! Related Books: `Practical Guide To Cluster Analysis in R` at https://goo.gl/13EFCZ\n",
      "\n",
      "Attaching package: 'dbscan'\n",
      "\n",
      "The following object is masked from 'package:fpc':\n",
      "\n",
      "    dbscan\n",
      "\n"
     ]
    }
   ],
   "source": [
    "install.packages(\"cluster\")\n",
    "install.packages(\"factoextra\")\n",
    "install.packages(\"fpc\")\n",
    "install.packages(\"dbscan\")\n",
    "library(cluster)\n",
    "library(factoextra)\n",
    "library(\"fpc\")\n",
    "library(\"dbscan\")"
   ]
  },
  {
   "cell_type": "code",
   "execution_count": 2,
   "metadata": {},
   "outputs": [],
   "source": [
    "complex8 <- read.csv(\"Complex8.data\", header=FALSE)\n",
    "dataset <- read.csv(\"Pima.csv\", header = FALSE)"
   ]
  },
  {
   "cell_type": "markdown",
   "metadata": {},
   "source": [
    "# 0."
   ]
  },
  {
   "cell_type": "code",
   "execution_count": 3,
   "metadata": {},
   "outputs": [],
   "source": [
    "# 0. Transform the Pima dataset into a dataset ZPima by z-scoring the first 8 attributes of the dataset, and copying the \n",
    "# 9th attribute of the dataset \n",
    "ZPima <- scale(dataset[,1:8])\n",
    "ZPima <- cbind(ZPima, dataset[,9])"
   ]
  },
  {
   "cell_type": "markdown",
   "metadata": {},
   "source": [
    "# 1."
   ]
  },
  {
   "cell_type": "code",
   "execution_count": 4,
   "metadata": {},
   "outputs": [
    {
     "name": "stdout",
     "output_type": "stream",
     "text": [
      "[1] 0.5714286 0.1250000\n",
      "[1] 0.4591479 0.2500000\n"
     ]
    }
   ],
   "source": [
    "# 1. Write an R-function entropy(a,b) that computes the entropy and the pecentage of outliers of a clustering \n",
    "# result based on an apriori given set of class lables\n",
    "\n",
    "a1 <- c(0,1,1,1,1,2,2,3)\n",
    "a2 <- c('1','1','1','0','0','2','2','2')\n",
    "b <- c('A','A','A','E','E','D','D','C')\n",
    "\n",
    "entropyvec <- function(vec) {\n",
    "  s <- sum(vec)\n",
    " \n",
    "  totalh <- Reduce(function(acc, elem) {\n",
    "    prob <- elem / s\n",
    "    h <- if (prob == 0) 0 else prob * log2(prob)\n",
    "    return (acc - h)\n",
    "  }, vec, 0)\n",
    " \n",
    "  return (totalh)\n",
    "}\n",
    "\n",
    "entropy <- function(clusterassignment, groundtruth) {\n",
    "  clusterlevels <- clusterassignment\n",
    "  clusterclass <- table(clusterassignment, groundtruth)\n",
    "\n",
    "  n <- nrow(clusterclass)\n",
    "  entropy_weight <- array(dim=c(n, 2))\n",
    "  population <- 0\n",
    " \n",
    "  for (i in 1:n) {\n",
    "    clustersize <- sum(clusterclass[i,])\n",
    "    population <- population + clustersize\n",
    "    entropy_weight[i,] = c(entropyvec(clusterclass[i,]), clustersize)\n",
    "  }\n",
    "  percentage <- 0\n",
    "  outliers <- sum(clusterclass[1,])\n",
    "  entropy_weight[1,] = c(0, 0)\n",
    "  percentage <- outliers / population\n",
    "  population <- population - outliers\n",
    " \n",
    "  totalh <- 0\n",
    "  if (population > 0) {\n",
    "    for (i in 1:n) {\n",
    "      totalh <- totalh + entropy_weight[i, 1] * entropy_weight[i, 2] / population\n",
    "    }\n",
    "  }\n",
    " \n",
    "  return (c(totalh, percentage))\n",
    "}\n",
    "print(entropy(a1, b))\n",
    "print(entropy(a2, b))"
   ]
  },
  {
   "cell_type": "markdown",
   "metadata": {},
   "source": [
    "# 2."
   ]
  },
  {
   "cell_type": "code",
   "execution_count": 5,
   "metadata": {},
   "outputs": [
    {
     "data": {
      "text/html": [
       "1.5"
      ],
      "text/latex": [
       "1.5"
      ],
      "text/markdown": [
       "1.5"
      ],
      "text/plain": [
       "[1] 1.5"
      ]
     },
     "metadata": {},
     "output_type": "display_data"
    },
    {
     "data": {
      "text/html": [
       "3.1"
      ],
      "text/latex": [
       "3.1"
      ],
      "text/markdown": [
       "3.1"
      ],
      "text/plain": [
       "[1] 3.1"
      ]
     },
     "metadata": {},
     "output_type": "display_data"
    }
   ],
   "source": [
    "# 2. Write an R-function wabs-dist(u,v,w) that takes two vectors u, v as an input and computes the distance \n",
    "# between u and v as the sum of the absolute weighted differences—using the weights in w .*\n",
    "wabs_dist <- function(u,v,w){\n",
    "   return(sum((abs(u-v))*w))\n",
    "} \n",
    "\n",
    "wabs_dist(c(1,2), c(4,5), c(0.2,0.3))\n",
    "wabs_dist(c(4,5),c(9,12), c(0.2,0.3))"
   ]
  },
  {
   "cell_type": "markdown",
   "metadata": {},
   "source": [
    "# 3."
   ]
  },
  {
   "cell_type": "code",
   "execution_count": 6,
   "metadata": {},
   "outputs": [
    {
     "data": {
      "text/html": [
       "<table>\n",
       "<tbody>\n",
       "\t<tr><td>0.0</td><td>1.5</td><td>4.6</td></tr>\n",
       "\t<tr><td>1.5</td><td>0.0</td><td>3.1</td></tr>\n",
       "\t<tr><td>4.6</td><td>3.1</td><td>0.0</td></tr>\n",
       "</tbody>\n",
       "</table>\n"
      ],
      "text/latex": [
       "\\begin{tabular}{lll}\n",
       "\t 0.0 & 1.5 & 4.6\\\\\n",
       "\t 1.5 & 0.0 & 3.1\\\\\n",
       "\t 4.6 & 3.1 & 0.0\\\\\n",
       "\\end{tabular}\n"
      ],
      "text/markdown": [
       "\n",
       "| 0.0 | 1.5 | 4.6 |\n",
       "| 1.5 | 0.0 | 3.1 |\n",
       "| 4.6 | 3.1 | 0.0 |\n",
       "\n"
      ],
      "text/plain": [
       "     [,1] [,2] [,3]\n",
       "[1,] 0.0  1.5  4.6 \n",
       "[2,] 1.5  0.0  3.1 \n",
       "[3,] 4.6  3.1  0.0 "
      ]
     },
     "metadata": {},
     "output_type": "display_data"
    }
   ],
   "source": [
    "# 3. Write an R-function create-dm(x,w) that returns a distance matrix for the objects in dataframe x by calling the \n",
    "# wabs-dist(a,b,w) for all pairs of objects a and b belonging to x. **\n",
    "create_dm <- function(x,w){\n",
    "    rows <- nrow(x)\n",
    "    data <- matrix(nrow = rows, ncol = rows, data = 0)\n",
    "    for(i in 1:rows){\n",
    "        for(j in 1:rows){\n",
    "            data[i,j] <- wabs_dist(as.numeric(as.vector(x[i,])), as.numeric(as.vector(x[j,])), w)\n",
    "            data[j,i]=data[i,j];\n",
    "        }\n",
    "        data[i,i] = 0\n",
    "    }\n",
    "    \n",
    "    return(data)\n",
    "}\n",
    "\n",
    "create_dm(data.frame(\"x\" = c(1,4,9), \"y\" = c(2,5,12)), c(0.2,0.3))\n",
    "\n"
   ]
  },
  {
   "cell_type": "markdown",
   "metadata": {},
   "source": [
    "# 4."
   ]
  },
  {
   "cell_type": "code",
   "execution_count": 7,
   "metadata": {
    "scrolled": true
   },
   "outputs": [],
   "source": [
    "# 4. Run K-means on the ZPima dataset for k=6 and k=9 and nstart=20; \n",
    "# next run PAM for k=6 with distance matrices that have been created using the following weight vectors for the \n",
    "# ZPima dataset using the function create-dm─obtaining 3 different PAM clustering results:\n",
    "# a. (1,1,1,1,1,1,1,1)\n",
    "# b. (0.2,1,0,0,0,1,0.2,1)\n",
    "# c. (0,1,0,0,0,1,0,0)\n",
    "# For the 5 obtained clustering results report the overall entropy, the entropy of each cluster, \n",
    "# the majority class and the centroid/medoid of each cluster. \n",
    "# Next, visualize the clustering result of the K-means run for k=6/9 and for the 3 PAM results in the \n",
    "# Plasma glucose/Body mass index (Attribute 2&6 Space) for the original dataset . \n",
    "# Interpret the obtained results! Does changing the distance metric affect the PAM results? Do the results tell\n",
    "# you anything which attributes are important for diagnosing diabetes, and about the difficulty diagnosing diabetes?\n",
    "\n",
    "k6 <- kmeans(x = ZPima[,1:8], centers = 6, nstart = 20)\n",
    "k9 <- kmeans(x = ZPima[,1:8], centers = 9, nstart = 20)\n",
    "\n",
    "pA <- create_dm(as.data.frame(ZPima[,1:8]), c(1,1,1,1,1,1,1,1))\n",
    "pB <- create_dm(as.data.frame(ZPima[,1:8]), c(0.2,1,0,0,0,1,0.2,1))\n",
    "pC <- create_dm(as.data.frame(ZPima[,1:8]), c(0,1,0,0,0,1,0,0))"
   ]
  },
  {
   "cell_type": "code",
   "execution_count": null,
   "metadata": {},
   "outputs": [],
   "source": [
    "pamA <- pam(x = pA, k = 6, diss = TRUE)\n",
    "pamB <- pam(x = pB, k = 6, diss = TRUE)\n",
    "pamC <- pam(x = pC, k = 6, diss = TRUE)\n",
    "\n",
    "# entropy(k6$cluster, ZPima[,9])[1]\n",
    "# entropy(k9$cluster, ZPima[,9])[1]\n",
    "# entropy(pamA$cluster, ZPima[,9])[1]\n",
    "# entropy(pamB$cluster, ZPima[,9])[1]\n",
    "# entropy(pamC$cluster, ZPima[,9])[1]\n",
    "\n",
    "overall_entropy <- mean(c(entropy(k6$cluster, ZPima[,9])[1], entropy(k9$cluster, ZPima[,9])[1], entropy(pamA$clustering, ZPima[,9])[1], entropy(pamB$clustering, ZPima[,9])[1], entropy(pamC$clustering, ZPima[,9])[1]))"
   ]
  },
  {
   "cell_type": "markdown",
   "metadata": {},
   "source": [
    "### The over all entropy is:"
   ]
  },
  {
   "cell_type": "code",
   "execution_count": null,
   "metadata": {},
   "outputs": [],
   "source": [
    "overall_entropy"
   ]
  },
  {
   "cell_type": "markdown",
   "metadata": {},
   "source": [
    "## K-means k = 6\n",
    "### The entropy of the k-means model with k = 6 is  0.7210503. The majority class is in cluster 5 with 257 points.\n",
    "### Centroid:"
   ]
  },
  {
   "cell_type": "code",
   "execution_count": null,
   "metadata": {},
   "outputs": [],
   "source": [
    "k6$centers"
   ]
  },
  {
   "cell_type": "markdown",
   "metadata": {},
   "source": [
    "## K-means k = 9\n",
    "### The entropy of the k-means model with k = 6 is  0.7210503. The majority class is in cluster 5 with 170 points.\n",
    "### Centroid:"
   ]
  },
  {
   "cell_type": "code",
   "execution_count": null,
   "metadata": {},
   "outputs": [],
   "source": [
    "k9$centers"
   ]
  },
  {
   "cell_type": "markdown",
   "metadata": {},
   "source": [
    "## PAM A  k = 6\n",
    "### The entropy of the PAM model with k = 6 is  0.7210503. The majority class is in cluster 5 with 257 points.\n",
    "### Medoids: "
   ]
  },
  {
   "cell_type": "code",
   "execution_count": null,
   "metadata": {},
   "outputs": [],
   "source": [
    "pamA$medoids"
   ]
  },
  {
   "cell_type": "markdown",
   "metadata": {},
   "source": [
    "## PAM B k = 6\n",
    "### The entropy of the PAM model with k = 6 is  0.7210503. The majority class is in cluster 5 with 257 points.\n",
    "### "
   ]
  },
  {
   "cell_type": "code",
   "execution_count": null,
   "metadata": {},
   "outputs": [],
   "source": [
    "pamB$medoids"
   ]
  },
  {
   "cell_type": "markdown",
   "metadata": {},
   "source": [
    "## PAM C k = 6\n",
    "### The entropy of the PAM model with k = 6 is  0.7210503. The majority class is in cluster 5 with 257 points.\n",
    "### "
   ]
  },
  {
   "cell_type": "code",
   "execution_count": null,
   "metadata": {},
   "outputs": [],
   "source": [
    "pamC$medoids"
   ]
  },
  {
   "cell_type": "code",
   "execution_count": null,
   "metadata": {
    "scrolled": false
   },
   "outputs": [],
   "source": [
    "newData <- dataset[,2]\n",
    "# newData <- cbind(newData, dataset[,6])\n",
    "\n",
    "pamA <- pam(x = pA, k = 6)\n",
    "pamB <- pam(x = pB, k = 6)\n",
    "pamC <- pam(x = pC, k = 6)\n",
    "\n",
    "fviz_cluster(k6, data = as.data.frame(newData))\n",
    "fviz_cluster(k9, data = as.data.frame(newData))\n",
    "fviz_cluster(pamA)\n",
    "fviz_cluster(pamB, data = newData)\n",
    "fviz_cluster(pamC, data = newData)\n",
    "\n",
    "pamA <- pam(x = pA, k = 6, diss = TRUE)\n",
    "pamB <- pam(x = pB, k = 6, diss = TRUE)\n",
    "pamC <- pam(x = pC, k = 6, diss = TRUE)"
   ]
  },
  {
   "cell_type": "markdown",
   "metadata": {},
   "source": [
    "# 6."
   ]
  },
  {
   "cell_type": "code",
   "execution_count": null,
   "metadata": {},
   "outputs": [],
   "source": [
    "##### 6. Run DBSCAN on the ZPima dataset; try to find values for MinPoints and epsilon parameters, \n",
    "# such that the number of outliers is less than 15% and the number of clusters is between 2 and 12 ; \n",
    "# visualize the obtained clustering result in the Plasma glucose/Body mass index attribute Space on the original dataset \n",
    "# and report its entropy. Comment on the quality of the obtained clustering result. \n",
    "\n",
    "# dbscan::kNNdistplot(ZPima[,1:8], k=6)\n",
    "# abline(h =1.9, lty = 2)\n",
    "# db <- dbscan(ZPima[,1:8], eps = 2.1, minPts = 3)\n",
    "db <- fpc::dbscan(ZPima[,1:8], eps = 1.9, MinPts = 3)\n",
    "\n",
    "# Plot DBSCAN results\n",
    "newData <- dataset[,2]\n",
    "newData <- cbind(newData, dataset[,6])\n",
    "fviz_cluster(db, as.data.frame(newData), geom = \"point\")"
   ]
  },
  {
   "cell_type": "markdown",
   "metadata": {},
   "source": [
    "### Entropy:"
   ]
  },
  {
   "cell_type": "code",
   "execution_count": null,
   "metadata": {},
   "outputs": [],
   "source": [
    "entropy(db$cluster, ZPima[, 9])[1]"
   ]
  },
  {
   "cell_type": "markdown",
   "metadata": {},
   "source": [
    "# 7."
   ]
  },
  {
   "cell_type": "code",
   "execution_count": null,
   "metadata": {},
   "outputs": [],
   "source": [
    "# 7. Run K-means with nstart=20 for k=8 and k=11 for the Complex8 dataset; \n",
    "# visualize the results, compute their entropy, and discuss the obtained clustering results and its quality\n",
    "\n",
    "ZComplex8 <- scale(complex8[,1:2])\n",
    "ZComplex8 <- cbind(ZComplex8, complex8[,3])\n",
    "\n",
    "complex8_k8 <- kmeans(ZComplex8[,1:2], 8, nstart = 20)\n",
    "complex8_k11 <- kmeans(ZComplex8[,1:2], 11, nstart = 20)\n",
    "\n",
    "cat(\"Entropy for k = 8: \", entropy(complex8_k8$cluster, complex8$V3), \"\\n\")\n",
    "fviz_cluster(complex8_k8, data = ZComplex8[,1:2])\n",
    "cat(\"Entropy for k = 11: \", entropy(complex8_k11$cluster, complex8$V3))\n",
    "fviz_cluster(complex8_k11, data = ZComplex8[,1:2])\n",
    "\n"
   ]
  },
  {
   "cell_type": "markdown",
   "metadata": {},
   "source": [
    "# 8."
   ]
  },
  {
   "cell_type": "code",
   "execution_count": null,
   "metadata": {
    "scrolled": false
   },
   "outputs": [],
   "source": [
    "#8. Next, run DBSCAN for the Complex8 dataset; try to find “good” parameter settings  \n",
    "# for epsilon and Minpoints such that entropy of the obtained clustering result is maximized and the number of outliers is \n",
    "# less than 8% .  Develop a search procedure looks for the “best” DBSCAN clustering for the Complex8 dataset by varying \n",
    "# the epsilon/Minpoint parameters. Report the best clustering result you found, report the epsilon and Minpoint parameters \n",
    "# you used to obtain this clustering result and report  its percentage of outliers and entropy. \n",
    "# Results with higher entropy will receive higher scores; students who find the “best” result will get extra credit worse **’s!\n",
    "# Also compare the DBSCAN results with those you obtained for K-means in Task 7, and assess which clustering algorithm did a \n",
    "# better job in clustering the Complex8 dataset! \n",
    "\n",
    "# dbscan::kNNdistplot(ZComplex8[,1:2], k=6)\n",
    "# abline(h =.101, lty = 2)\n",
    "\n",
    "db <- dbscan::dbscan(ZComplex8[,1:2], eps = .101, minPts = 4)\n",
    "db\n",
    "# # Plot DBSCAN results\n",
    "# newData <- dataset[,2]\n",
    "# newData <- cbind(newData, dataset[,6])\n",
    "fviz_cluster(db, ZComplex8[,1:2], geom = \"point\")"
   ]
  },
  {
   "cell_type": "markdown",
   "metadata": {},
   "source": [
    "### Entropy:"
   ]
  },
  {
   "cell_type": "code",
   "execution_count": null,
   "metadata": {},
   "outputs": [],
   "source": [
    "entropy(db$cluster, ZComplex8[,3])[1]"
   ]
  },
  {
   "cell_type": "markdown",
   "metadata": {},
   "source": [
    "## 9."
   ]
  }
 ],
 "metadata": {
  "kernelspec": {
   "display_name": "R",
   "language": "R",
   "name": "ir"
  },
  "language_info": {
   "codemirror_mode": "r",
   "file_extension": ".r",
   "mimetype": "text/x-r-source",
   "name": "R",
   "pygments_lexer": "r",
   "version": "3.6.1"
  }
 },
 "nbformat": 4,
 "nbformat_minor": 2
}
